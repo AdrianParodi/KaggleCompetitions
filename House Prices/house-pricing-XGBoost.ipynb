{
 "cells": [
  {
   "cell_type": "code",
   "execution_count": 5,
   "metadata": {
    "_cell_guid": "b1076dfc-b9ad-4769-8c92-a6c4dae69d19",
    "_uuid": "8f2839f25d086af736a60e9eeb907d3b93b6e0e5",
    "execution": {
     "iopub.execute_input": "2025-02-11T19:29:13.172515Z",
     "iopub.status.busy": "2025-02-11T19:29:13.172277Z",
     "iopub.status.idle": "2025-02-11T19:29:14.335616Z",
     "shell.execute_reply": "2025-02-11T19:29:14.334582Z",
     "shell.execute_reply.started": "2025-02-11T19:29:13.172493Z"
    },
    "trusted": true
   },
   "outputs": [],
   "source": [
    "import numpy as np # linear algebra\n",
    "import pandas as pd # data processing, CSV file I/O (e.g. pd.read_csv)"
   ]
  },
  {
   "cell_type": "markdown",
   "metadata": {},
   "source": [
    "### Loading data\n",
    "Train data and test data are uploaded to the notebook"
   ]
  },
  {
   "cell_type": "code",
   "execution_count": 4,
   "metadata": {
    "execution": {
     "iopub.execute_input": "2025-02-11T14:57:21.008869Z",
     "iopub.status.busy": "2025-02-11T14:57:21.008412Z",
     "iopub.status.idle": "2025-02-11T14:57:21.061364Z",
     "shell.execute_reply": "2025-02-11T14:57:21.060096Z",
     "shell.execute_reply.started": "2025-02-11T14:57:21.008822Z"
    },
    "trusted": true
   },
   "outputs": [],
   "source": [
    "train_data = pd.read_csv(\"train.csv\")\n",
    "test_data = pd.read_csv(\"test.csv\")"
   ]
  },
  {
   "cell_type": "code",
   "execution_count": 6,
   "metadata": {
    "execution": {
     "iopub.execute_input": "2025-02-11T14:57:21.063586Z",
     "iopub.status.busy": "2025-02-11T14:57:21.063273Z",
     "iopub.status.idle": "2025-02-11T14:57:21.086060Z",
     "shell.execute_reply": "2025-02-11T14:57:21.084388Z",
     "shell.execute_reply.started": "2025-02-11T14:57:21.063561Z"
    },
    "trusted": true
   },
   "outputs": [
    {
     "data": {
      "text/html": [
       "<div>\n",
       "<style scoped>\n",
       "    .dataframe tbody tr th:only-of-type {\n",
       "        vertical-align: middle;\n",
       "    }\n",
       "\n",
       "    .dataframe tbody tr th {\n",
       "        vertical-align: top;\n",
       "    }\n",
       "\n",
       "    .dataframe thead th {\n",
       "        text-align: right;\n",
       "    }\n",
       "</style>\n",
       "<table border=\"1\" class=\"dataframe\">\n",
       "  <thead>\n",
       "    <tr style=\"text-align: right;\">\n",
       "      <th></th>\n",
       "      <th>Id</th>\n",
       "      <th>MSSubClass</th>\n",
       "      <th>MSZoning</th>\n",
       "      <th>LotFrontage</th>\n",
       "      <th>LotArea</th>\n",
       "      <th>Street</th>\n",
       "      <th>Alley</th>\n",
       "      <th>LotShape</th>\n",
       "      <th>LandContour</th>\n",
       "      <th>Utilities</th>\n",
       "      <th>...</th>\n",
       "      <th>ScreenPorch</th>\n",
       "      <th>PoolArea</th>\n",
       "      <th>PoolQC</th>\n",
       "      <th>Fence</th>\n",
       "      <th>MiscFeature</th>\n",
       "      <th>MiscVal</th>\n",
       "      <th>MoSold</th>\n",
       "      <th>YrSold</th>\n",
       "      <th>SaleType</th>\n",
       "      <th>SaleCondition</th>\n",
       "    </tr>\n",
       "  </thead>\n",
       "  <tbody>\n",
       "    <tr>\n",
       "      <th>0</th>\n",
       "      <td>1461</td>\n",
       "      <td>20</td>\n",
       "      <td>RH</td>\n",
       "      <td>80.0</td>\n",
       "      <td>11622</td>\n",
       "      <td>Pave</td>\n",
       "      <td>NaN</td>\n",
       "      <td>Reg</td>\n",
       "      <td>Lvl</td>\n",
       "      <td>AllPub</td>\n",
       "      <td>...</td>\n",
       "      <td>120</td>\n",
       "      <td>0</td>\n",
       "      <td>NaN</td>\n",
       "      <td>MnPrv</td>\n",
       "      <td>NaN</td>\n",
       "      <td>0</td>\n",
       "      <td>6</td>\n",
       "      <td>2010</td>\n",
       "      <td>WD</td>\n",
       "      <td>Normal</td>\n",
       "    </tr>\n",
       "    <tr>\n",
       "      <th>1</th>\n",
       "      <td>1462</td>\n",
       "      <td>20</td>\n",
       "      <td>RL</td>\n",
       "      <td>81.0</td>\n",
       "      <td>14267</td>\n",
       "      <td>Pave</td>\n",
       "      <td>NaN</td>\n",
       "      <td>IR1</td>\n",
       "      <td>Lvl</td>\n",
       "      <td>AllPub</td>\n",
       "      <td>...</td>\n",
       "      <td>0</td>\n",
       "      <td>0</td>\n",
       "      <td>NaN</td>\n",
       "      <td>NaN</td>\n",
       "      <td>Gar2</td>\n",
       "      <td>12500</td>\n",
       "      <td>6</td>\n",
       "      <td>2010</td>\n",
       "      <td>WD</td>\n",
       "      <td>Normal</td>\n",
       "    </tr>\n",
       "    <tr>\n",
       "      <th>2</th>\n",
       "      <td>1463</td>\n",
       "      <td>60</td>\n",
       "      <td>RL</td>\n",
       "      <td>74.0</td>\n",
       "      <td>13830</td>\n",
       "      <td>Pave</td>\n",
       "      <td>NaN</td>\n",
       "      <td>IR1</td>\n",
       "      <td>Lvl</td>\n",
       "      <td>AllPub</td>\n",
       "      <td>...</td>\n",
       "      <td>0</td>\n",
       "      <td>0</td>\n",
       "      <td>NaN</td>\n",
       "      <td>MnPrv</td>\n",
       "      <td>NaN</td>\n",
       "      <td>0</td>\n",
       "      <td>3</td>\n",
       "      <td>2010</td>\n",
       "      <td>WD</td>\n",
       "      <td>Normal</td>\n",
       "    </tr>\n",
       "    <tr>\n",
       "      <th>3</th>\n",
       "      <td>1464</td>\n",
       "      <td>60</td>\n",
       "      <td>RL</td>\n",
       "      <td>78.0</td>\n",
       "      <td>9978</td>\n",
       "      <td>Pave</td>\n",
       "      <td>NaN</td>\n",
       "      <td>IR1</td>\n",
       "      <td>Lvl</td>\n",
       "      <td>AllPub</td>\n",
       "      <td>...</td>\n",
       "      <td>0</td>\n",
       "      <td>0</td>\n",
       "      <td>NaN</td>\n",
       "      <td>NaN</td>\n",
       "      <td>NaN</td>\n",
       "      <td>0</td>\n",
       "      <td>6</td>\n",
       "      <td>2010</td>\n",
       "      <td>WD</td>\n",
       "      <td>Normal</td>\n",
       "    </tr>\n",
       "    <tr>\n",
       "      <th>4</th>\n",
       "      <td>1465</td>\n",
       "      <td>120</td>\n",
       "      <td>RL</td>\n",
       "      <td>43.0</td>\n",
       "      <td>5005</td>\n",
       "      <td>Pave</td>\n",
       "      <td>NaN</td>\n",
       "      <td>IR1</td>\n",
       "      <td>HLS</td>\n",
       "      <td>AllPub</td>\n",
       "      <td>...</td>\n",
       "      <td>144</td>\n",
       "      <td>0</td>\n",
       "      <td>NaN</td>\n",
       "      <td>NaN</td>\n",
       "      <td>NaN</td>\n",
       "      <td>0</td>\n",
       "      <td>1</td>\n",
       "      <td>2010</td>\n",
       "      <td>WD</td>\n",
       "      <td>Normal</td>\n",
       "    </tr>\n",
       "  </tbody>\n",
       "</table>\n",
       "<p>5 rows × 80 columns</p>\n",
       "</div>"
      ],
      "text/plain": [
       "     Id  MSSubClass MSZoning  LotFrontage  LotArea Street Alley LotShape  \\\n",
       "0  1461          20       RH         80.0    11622   Pave   NaN      Reg   \n",
       "1  1462          20       RL         81.0    14267   Pave   NaN      IR1   \n",
       "2  1463          60       RL         74.0    13830   Pave   NaN      IR1   \n",
       "3  1464          60       RL         78.0     9978   Pave   NaN      IR1   \n",
       "4  1465         120       RL         43.0     5005   Pave   NaN      IR1   \n",
       "\n",
       "  LandContour Utilities  ... ScreenPorch PoolArea PoolQC  Fence MiscFeature  \\\n",
       "0         Lvl    AllPub  ...         120        0    NaN  MnPrv         NaN   \n",
       "1         Lvl    AllPub  ...           0        0    NaN    NaN        Gar2   \n",
       "2         Lvl    AllPub  ...           0        0    NaN  MnPrv         NaN   \n",
       "3         Lvl    AllPub  ...           0        0    NaN    NaN         NaN   \n",
       "4         HLS    AllPub  ...         144        0    NaN    NaN         NaN   \n",
       "\n",
       "  MiscVal MoSold  YrSold  SaleType  SaleCondition  \n",
       "0       0      6    2010        WD         Normal  \n",
       "1   12500      6    2010        WD         Normal  \n",
       "2       0      3    2010        WD         Normal  \n",
       "3       0      6    2010        WD         Normal  \n",
       "4       0      1    2010        WD         Normal  \n",
       "\n",
       "[5 rows x 80 columns]"
      ]
     },
     "execution_count": 6,
     "metadata": {},
     "output_type": "execute_result"
    }
   ],
   "source": [
    "test_data.head()"
   ]
  },
  {
   "cell_type": "markdown",
   "metadata": {},
   "source": [
    "Now we can explore the different columns to get a sense of how much data is missing. We can sum up all the null values in the different columns.  \n",
    "We should recall that the train data has 1460 rows. We use a heatmap to get a sense of how much data is missing."
   ]
  },
  {
   "cell_type": "code",
   "execution_count": 7,
   "metadata": {
    "execution": {
     "iopub.execute_input": "2025-02-11T14:57:21.088132Z",
     "iopub.status.busy": "2025-02-11T14:57:21.087745Z",
     "iopub.status.idle": "2025-02-11T14:57:21.590164Z",
     "shell.execute_reply": "2025-02-11T14:57:21.588688Z",
     "shell.execute_reply.started": "2025-02-11T14:57:21.088092Z"
    },
    "trusted": true
   },
   "outputs": [
    {
     "data": {
      "text/plain": [
       "<Axes: >"
      ]
     },
     "execution_count": 7,
     "metadata": {},
     "output_type": "execute_result"
    },
    {
     "data": {
      "image/png": "[encoded data removed]",
      "text/plain": [
       "<Figure size 640x480 with 1 Axes>"
      ]
     },
     "metadata": {},
     "output_type": "display_data"
    }
   ],
   "source": [
    "import seaborn as sns\n",
    "sns.heatmap(train_data.isnull(), cbar=False, yticklabels=False)"
   ]
  },
  {
   "cell_type": "code",
   "execution_count": 9,
   "metadata": {
    "execution": {
     "iopub.execute_input": "2025-02-11T14:57:21.591543Z",
     "iopub.status.busy": "2025-02-11T14:57:21.591253Z",
     "iopub.status.idle": "2025-02-11T14:57:21.622278Z",
     "shell.execute_reply": "2025-02-11T14:57:21.620965Z",
     "shell.execute_reply.started": "2025-02-11T14:57:21.591520Z"
    },
    "trusted": true
   },
   "outputs": [
    {
     "name": "stdout",
     "output_type": "stream",
     "text": [
      "Id: 0\n",
      "MSSubClass: 0\n",
      "MSZoning: 0\n",
      "LotFrontage: 259\n",
      "LotArea: 0\n",
      "Street: 0\n",
      "Alley: 1369\n",
      "LotShape: 0\n",
      "LandContour: 0\n",
      "Utilities: 0\n",
      "LotConfig: 0\n",
      "LandSlope: 0\n",
      "Neighborhood: 0\n",
      "Condition1: 0\n",
      "Condition2: 0\n",
      "BldgType: 0\n",
      "HouseStyle: 0\n",
      "OverallQual: 0\n",
      "OverallCond: 0\n",
      "YearBuilt: 0\n",
      "YearRemodAdd: 0\n",
      "RoofStyle: 0\n",
      "RoofMatl: 0\n",
      "Exterior1st: 0\n",
      "Exterior2nd: 0\n",
      "MasVnrType: 872\n",
      "MasVnrArea: 8\n",
      "ExterQual: 0\n",
      "ExterCond: 0\n",
      "Foundation: 0\n",
      "BsmtQual: 37\n",
      "BsmtCond: 37\n",
      "BsmtExposure: 38\n",
      "BsmtFinType1: 37\n",
      "BsmtFinSF1: 0\n",
      "BsmtFinType2: 38\n",
      "BsmtFinSF2: 0\n",
      "BsmtUnfSF: 0\n",
      "TotalBsmtSF: 0\n",
      "Heating: 0\n",
      "HeatingQC: 0\n",
      "CentralAir: 0\n",
      "Electrical: 1\n",
      "1stFlrSF: 0\n",
      "2ndFlrSF: 0\n",
      "LowQualFinSF: 0\n",
      "GrLivArea: 0\n",
      "BsmtFullBath: 0\n",
      "BsmtHalfBath: 0\n",
      "FullBath: 0\n",
      "HalfBath: 0\n",
      "BedroomAbvGr: 0\n",
      "KitchenAbvGr: 0\n",
      "KitchenQual: 0\n",
      "TotRmsAbvGrd: 0\n",
      "Functional: 0\n",
      "Fireplaces: 0\n",
      "FireplaceQu: 690\n",
      "GarageType: 81\n",
      "GarageYrBlt: 81\n",
      "GarageFinish: 81\n",
      "GarageCars: 0\n",
      "GarageArea: 0\n",
      "GarageQual: 81\n",
      "GarageCond: 81\n",
      "PavedDrive: 0\n",
      "WoodDeckSF: 0\n",
      "OpenPorchSF: 0\n",
      "EnclosedPorch: 0\n",
      "3SsnPorch: 0\n",
      "ScreenPorch: 0\n",
      "PoolArea: 0\n",
      "PoolQC: 1453\n",
      "Fence: 1179\n",
      "MiscFeature: 1406\n",
      "MiscVal: 0\n",
      "MoSold: 0\n",
      "YrSold: 0\n",
      "SaleType: 0\n",
      "SaleCondition: 0\n",
      "SalePrice: 0\n"
     ]
    }
   ],
   "source": [
    "null_list = train_data.isnull().sum()\n",
    "# Index and values are converted to list to print them\n",
    "index = list(null_list.index)\n",
    "values = list(null_list)\n",
    "\n",
    "\n",
    "for idx, value in zip (index, values):\n",
    "    print(f\"{idx}: {value}\")"
   ]
  },
  {
   "cell_type": "markdown",
   "metadata": {},
   "source": [
    "We can see a big number of missing values in some columns (like MiscFeature or PoolQC). With this information, we can discard columns with a high ratio of missing values. The threshold I'm gonna take for this analysis is 50%. In other words, if ```50%``` of the data is missing, the column is eliminated from the training data. Additionally, a copy of the original dataframe will be made."
   ]
  },
  {
   "cell_type": "code",
   "execution_count": 10,
   "metadata": {
    "execution": {
     "iopub.execute_input": "2025-02-11T14:57:21.624071Z",
     "iopub.status.busy": "2025-02-11T14:57:21.623693Z",
     "iopub.status.idle": "2025-02-11T14:57:21.651083Z",
     "shell.execute_reply": "2025-02-11T14:57:21.649637Z",
     "shell.execute_reply.started": "2025-02-11T14:57:21.624038Z"
    },
    "trusted": true
   },
   "outputs": [
    {
     "data": {
      "text/plain": [
       "(1460, 75)"
      ]
     },
     "execution_count": 10,
     "metadata": {},
     "output_type": "execute_result"
    }
   ],
   "source": [
    "# Exploring columns with high amount of missing values. Eliminating columns\n",
    "df_train = train_data.copy()\n",
    "\n",
    "n = len(df_train)\n",
    "threshold = 0.5\n",
    "\n",
    "for idx, value in zip (index, values):\n",
    "    ratio = value/n\n",
    "    if ratio >= threshold:\n",
    "        # print(f\"{ratio} - {idx}: {value}\")\n",
    "        # The column is dropped\n",
    "        df_train = df_train.drop(idx, axis=1)\n",
    "        \n",
    "#The column \"id\" is also eliminated because it doesn't give any valuable information\n",
    "df_train = df_train.drop(\"Id\", axis=1)\n",
    "\n",
    "df_train.shape\n"
   ]
  },
  {
   "cell_type": "markdown",
   "metadata": {},
   "source": [
    "Now we can build another heatmap to see how the data has been cleaned."
   ]
  },
  {
   "cell_type": "code",
   "execution_count": 11,
   "metadata": {
    "execution": {
     "iopub.execute_input": "2025-02-11T14:57:21.654392Z",
     "iopub.status.busy": "2025-02-11T14:57:21.654033Z",
     "iopub.status.idle": "2025-02-11T14:57:22.114723Z",
     "shell.execute_reply": "2025-02-11T14:57:22.113081Z",
     "shell.execute_reply.started": "2025-02-11T14:57:21.654360Z"
    },
    "trusted": true
   },
   "outputs": [
    {
     "data": {
      "text/plain": [
       "<Axes: >"
      ]
     },
     "execution_count": 11,
     "metadata": {},
     "output_type": "execute_result"
    },
    {
     "data": {
      "image/png": "[encoded data removed]",
      "text/plain": [
       "<Figure size 640x480 with 1 Axes>"
      ]
     },
     "metadata": {},
     "output_type": "display_data"
    }
   ],
   "source": [
    "sns.heatmap(df_train.isnull(), yticklabels=False, cbar=False)"
   ]
  },
  {
   "cell_type": "markdown",
   "metadata": {},
   "source": [
    "The next step is to deal with categorical and numerical values and come up with some kind of compromise to fill the remaining Null values in the previous heatmap. The criteria will depend on the particular column. The data type in each column gives us information about the whether the variable is categorical or not. a Dtype \"object\" indicates the variable is categorical."
   ]
  },
  {
   "cell_type": "code",
   "execution_count": 82,
   "metadata": {
    "execution": {
     "iopub.execute_input": "2025-02-11T14:57:22.117611Z",
     "iopub.status.busy": "2025-02-11T14:57:22.117155Z",
     "iopub.status.idle": "2025-02-11T14:57:22.122320Z",
     "shell.execute_reply": "2025-02-11T14:57:22.120860Z",
     "shell.execute_reply.started": "2025-02-11T14:57:22.117559Z"
    },
    "trusted": true
   },
   "outputs": [],
   "source": [
    "# df_train.info()"
   ]
  },
  {
   "cell_type": "markdown",
   "metadata": {},
   "source": [
    "The objective now is to develop a function to be used to treat categorical and numerical variables and fill the null values. Let's explore how we can treat a categorical variable first. The method ``value_counts()`` can be used to count how many times each category is repeated for in a column.\n",
    "It is important to note that this method doesn't count the missing values."
   ]
  },
  {
   "cell_type": "code",
   "execution_count": 12,
   "metadata": {
    "execution": {
     "iopub.execute_input": "2025-02-11T14:57:22.124087Z",
     "iopub.status.busy": "2025-02-11T14:57:22.123695Z",
     "iopub.status.idle": "2025-02-11T14:57:22.153238Z",
     "shell.execute_reply": "2025-02-11T14:57:22.151940Z",
     "shell.execute_reply.started": "2025-02-11T14:57:22.124047Z"
    },
    "trusted": true
   },
   "outputs": [
    {
     "name": "stdout",
     "output_type": "stream",
     "text": [
      "BsmtCond\n",
      "TA    1311\n",
      "Gd      65\n",
      "Fa      45\n",
      "Po       2\n",
      "Name: count, dtype: int64\n",
      "\n",
      "0       TA\n",
      "1       TA\n",
      "2       TA\n",
      "3       Gd\n",
      "4       TA\n",
      "        ..\n",
      "1455    TA\n",
      "1456    TA\n",
      "1457    Gd\n",
      "1458    TA\n",
      "1459    TA\n",
      "Name: BsmtCond, Length: 1460, dtype: object\n",
      "\n",
      "If the variable is categorical, its dtype is: object\n",
      "The number of null values is: 37\n",
      "The sum of all teh categorical values is: 1423\n",
      "mode: TA\n"
     ]
    }
   ],
   "source": [
    "print(df_train[\"BsmtCond\"].value_counts())\n",
    "print()\n",
    "print(df_train[\"BsmtCond\"])\n",
    "print()\n",
    "print(f\"If the variable is categorical, its dtype is: {df_train['BsmtCond'].dtype}\")\n",
    "print(f\"The number of null values is: {len(df_train)- df_train['BsmtCond'].value_counts().sum()}\")\n",
    "print(f\"The sum of all teh categorical values is: { df_train['BsmtCond'].value_counts().sum()}\")\n",
    "print(f\"mode: { df_train['BsmtCond'].mode()[0]}\")"
   ]
  },
  {
   "cell_type": "markdown",
   "metadata": {},
   "source": [
    "We continue to explore how to use a couple of pandas methods to fill the missing values in columns."
   ]
  },
  {
   "cell_type": "code",
   "execution_count": 13,
   "metadata": {
    "execution": {
     "iopub.execute_input": "2025-02-11T14:57:22.154726Z",
     "iopub.status.busy": "2025-02-11T14:57:22.154417Z",
     "iopub.status.idle": "2025-02-11T14:57:22.181778Z",
     "shell.execute_reply": "2025-02-11T14:57:22.180407Z",
     "shell.execute_reply.started": "2025-02-11T14:57:22.154698Z"
    },
    "trusted": true
   },
   "outputs": [
    {
     "name": "stdout",
     "output_type": "stream",
     "text": [
      "<bound method Series.info of 0       TA\n",
      "1       TA\n",
      "2       TA\n",
      "3       Gd\n",
      "4       TA\n",
      "        ..\n",
      "1455    TA\n",
      "1456    TA\n",
      "1457    Gd\n",
      "1458    TA\n",
      "1459    TA\n",
      "Name: BsmtCond, Length: 1460, dtype: object>\n",
      "1423\n"
     ]
    }
   ],
   "source": [
    "df2 = df_train.copy()\n",
    "df2 = df_train[\"BsmtCond\"].fillna(df_train['BsmtCond'].mode()[0])\n",
    "print(df2.info)\n",
    "\n",
    "print(np.sum(df2 == df_train[\"BsmtCond\"]))"
   ]
  },
  {
   "cell_type": "markdown",
   "metadata": {},
   "source": []
  },
  {
   "cell_type": "markdown",
   "metadata": {},
   "source": [
    "The function should accept a dataframe, iterate through each column and: \n",
    "- Verify the data type of the column.\n",
    "- If its type is \"object\" or \"int64\", we use the method value_counts and fill the missing values with the \"mode\" for that column.\n",
    "\n",
    "- else if: the value is of type \"float64\", we fill the missing value with the mean for that particular column.  \n",
    "**note:** Some variables that are float, like ``MSSubClass``, are actually categorical and using the mean value would create a new value which doesn't correspond to any of the possible values."
   ]
  },
  {
   "cell_type": "code",
   "execution_count": 14,
   "metadata": {
    "execution": {
     "iopub.execute_input": "2025-02-11T14:57:22.183290Z",
     "iopub.status.busy": "2025-02-11T14:57:22.182824Z",
     "iopub.status.idle": "2025-02-11T14:57:22.245978Z",
     "shell.execute_reply": "2025-02-11T14:57:22.244379Z",
     "shell.execute_reply.started": "2025-02-11T14:57:22.183256Z"
    },
    "trusted": true
   },
   "outputs": [],
   "source": [
    "def fill_missing(dataFrame):\n",
    "    \"\"\" This function iterates through the columns of data frame. If the column dtype is 'int64' or 'object'\n",
    "    the variable is considered categorical, the missing values are filled with the 'mode' of that category. \n",
    "    If the dtype is 'float64', the variable is numerical and the missing values are filled with the mean value.\n",
    "    \"\"\"\n",
    "    for col in dataFrame:\n",
    "        if dataFrame[col].dtype == \"object\" :  # Categorical features - fill the mode value\n",
    "            dataFrame[col] = dataFrame[col].fillna(dataFrame[col].mode()[0])\n",
    "        elif dataFrame[col].dtype == \"float64\" or dataFrame[col].dtype == \"int64\":  # Numerical  features - fill with the mean value\n",
    "            dataFrame[col] = dataFrame[col].fillna(dataFrame[col].mean())\n",
    "\n",
    "fill_missing(df_train)"
   ]
  },
  {
   "cell_type": "code",
   "execution_count": 15,
   "metadata": {
    "execution": {
     "iopub.execute_input": "2025-02-11T14:57:22.247610Z",
     "iopub.status.busy": "2025-02-11T14:57:22.247152Z",
     "iopub.status.idle": "2025-02-11T14:57:22.711276Z",
     "shell.execute_reply": "2025-02-11T14:57:22.710011Z",
     "shell.execute_reply.started": "2025-02-11T14:57:22.247564Z"
    },
    "trusted": true
   },
   "outputs": [
    {
     "name": "stdout",
     "output_type": "stream",
     "text": [
      "Number of Null variables in the dataframe: 0\n"
     ]
    },
    {
     "data": {
      "image/png": "[encoded data removed]",
      "text/plain": [
       "<Figure size 640x480 with 1 Axes>"
      ]
     },
     "metadata": {},
     "output_type": "display_data"
    }
   ],
   "source": [
    "# We can visualize a heatmap again to find out that we have less Null values\n",
    "sns.heatmap(df_train.isnull(), yticklabels=False, cbar=False)\n",
    "\n",
    "# Additionally, we can observe how many Null values are present after the treatment\n",
    "print(f\"Number of Null variables in the dataframe: {df_train.isnull().sum().sum()}\")"
   ]
  },
  {
   "cell_type": "markdown",
   "metadata": {},
   "source": [
    "### Dealing with categorical variables\n",
    "To build a machine learning algorithm it is of great interest to convert the categorical variables using the one-hot encode technique. For this purpose, we're creating a function that iterates through the dataframe columns and one-hot encode the variables of type 'object'.\n"
   ]
  },
  {
   "cell_type": "code",
   "execution_count": 16,
   "metadata": {
    "execution": {
     "iopub.execute_input": "2025-02-11T14:57:22.713084Z",
     "iopub.status.busy": "2025-02-11T14:57:22.712636Z",
     "iopub.status.idle": "2025-02-11T14:57:22.724411Z",
     "shell.execute_reply": "2025-02-11T14:57:22.723063Z",
     "shell.execute_reply.started": "2025-02-11T14:57:22.713050Z"
    },
    "trusted": true
   },
   "outputs": [],
   "source": [
    "# The target column SalePrice is saved and dropped from the dataframe\n",
    "train_y = df_train[\"SalePrice\"]\n",
    "df_train = df_train.drop(\"SalePrice\", axis=1)"
   ]
  },
  {
   "cell_type": "code",
   "execution_count": 17,
   "metadata": {
    "execution": {
     "iopub.execute_input": "2025-02-11T14:57:22.725874Z",
     "iopub.status.busy": "2025-02-11T14:57:22.725549Z",
     "iopub.status.idle": "2025-02-11T14:57:22.758214Z",
     "shell.execute_reply": "2025-02-11T14:57:22.756793Z",
     "shell.execute_reply.started": "2025-02-11T14:57:22.725847Z"
    },
    "trusted": true
   },
   "outputs": [],
   "source": [
    "# HAY QUE MEJORAR EL DATAFRAME DE ENTRADA df_train PORQUE ALGUNAS VARIABLES ENTERAS NO TIENE SENTIDO QUE SEAN CATEGORICAS\n",
    "# COMO EL AÑO DE CONSTRUCCION, POR EJEMPLO...\n",
    "\n",
    "\n",
    "def one_hot_encode(dataFrame):\n",
    "    new_df = pd.DataFrame()\n",
    "    for col in dataFrame:\n",
    "        if (dataFrame[col].dtype == \"object\") :  # Categorical features\n",
    "            new_cols = pd.get_dummies(dataFrame[col], prefix=col)  # saved in a dataframe \n",
    "            # new_cols = pd.get_dummies(dataFrame[col])\n",
    "            new_df = pd.concat([new_df, new_cols], axis=1)\n",
    "        else:          \n",
    "            new_df = pd.concat([new_df, dataFrame[col]], axis=1)  # Float64 and int64 features\n",
    "\n",
    "    return new_df\n",
    "\n"
   ]
  },
  {
   "cell_type": "markdown",
   "metadata": {},
   "source": [
    "## Working with the test_data\n",
    "I saw in a video that applying the same treatment to the test data produces a dataFrame with a different number of encoded columns.  \n",
    "In order to avoid this problem, the strategy will be to treat the ``test_data`` in the same way as the ``trainging_data``, concatenate both data frames and then pass the concatenated data frame to the ``one_hot_encode`` function. "
   ]
  },
  {
   "cell_type": "code",
   "execution_count": 18,
   "metadata": {
    "execution": {
     "iopub.execute_input": "2025-02-11T14:57:22.759675Z",
     "iopub.status.busy": "2025-02-11T14:57:22.759285Z",
     "iopub.status.idle": "2025-02-11T14:57:22.796710Z",
     "shell.execute_reply": "2025-02-11T14:57:22.795314Z",
     "shell.execute_reply.started": "2025-02-11T14:57:22.759645Z"
    },
    "trusted": true
   },
   "outputs": [
    {
     "data": {
      "text/html": [
       "<div>\n",
       "<style scoped>\n",
       "    .dataframe tbody tr th:only-of-type {\n",
       "        vertical-align: middle;\n",
       "    }\n",
       "\n",
       "    .dataframe tbody tr th {\n",
       "        vertical-align: top;\n",
       "    }\n",
       "\n",
       "    .dataframe thead th {\n",
       "        text-align: right;\n",
       "    }\n",
       "</style>\n",
       "<table border=\"1\" class=\"dataframe\">\n",
       "  <thead>\n",
       "    <tr style=\"text-align: right;\">\n",
       "      <th></th>\n",
       "      <th>Id</th>\n",
       "      <th>MSSubClass</th>\n",
       "      <th>MSZoning</th>\n",
       "      <th>LotFrontage</th>\n",
       "      <th>LotArea</th>\n",
       "      <th>Street</th>\n",
       "      <th>Alley</th>\n",
       "      <th>LotShape</th>\n",
       "      <th>LandContour</th>\n",
       "      <th>Utilities</th>\n",
       "      <th>...</th>\n",
       "      <th>ScreenPorch</th>\n",
       "      <th>PoolArea</th>\n",
       "      <th>PoolQC</th>\n",
       "      <th>Fence</th>\n",
       "      <th>MiscFeature</th>\n",
       "      <th>MiscVal</th>\n",
       "      <th>MoSold</th>\n",
       "      <th>YrSold</th>\n",
       "      <th>SaleType</th>\n",
       "      <th>SaleCondition</th>\n",
       "    </tr>\n",
       "  </thead>\n",
       "  <tbody>\n",
       "    <tr>\n",
       "      <th>0</th>\n",
       "      <td>1461</td>\n",
       "      <td>20</td>\n",
       "      <td>RH</td>\n",
       "      <td>80.0</td>\n",
       "      <td>11622</td>\n",
       "      <td>Pave</td>\n",
       "      <td>NaN</td>\n",
       "      <td>Reg</td>\n",
       "      <td>Lvl</td>\n",
       "      <td>AllPub</td>\n",
       "      <td>...</td>\n",
       "      <td>120</td>\n",
       "      <td>0</td>\n",
       "      <td>NaN</td>\n",
       "      <td>MnPrv</td>\n",
       "      <td>NaN</td>\n",
       "      <td>0</td>\n",
       "      <td>6</td>\n",
       "      <td>2010</td>\n",
       "      <td>WD</td>\n",
       "      <td>Normal</td>\n",
       "    </tr>\n",
       "    <tr>\n",
       "      <th>1</th>\n",
       "      <td>1462</td>\n",
       "      <td>20</td>\n",
       "      <td>RL</td>\n",
       "      <td>81.0</td>\n",
       "      <td>14267</td>\n",
       "      <td>Pave</td>\n",
       "      <td>NaN</td>\n",
       "      <td>IR1</td>\n",
       "      <td>Lvl</td>\n",
       "      <td>AllPub</td>\n",
       "      <td>...</td>\n",
       "      <td>0</td>\n",
       "      <td>0</td>\n",
       "      <td>NaN</td>\n",
       "      <td>NaN</td>\n",
       "      <td>Gar2</td>\n",
       "      <td>12500</td>\n",
       "      <td>6</td>\n",
       "      <td>2010</td>\n",
       "      <td>WD</td>\n",
       "      <td>Normal</td>\n",
       "    </tr>\n",
       "    <tr>\n",
       "      <th>2</th>\n",
       "      <td>1463</td>\n",
       "      <td>60</td>\n",
       "      <td>RL</td>\n",
       "      <td>74.0</td>\n",
       "      <td>13830</td>\n",
       "      <td>Pave</td>\n",
       "      <td>NaN</td>\n",
       "      <td>IR1</td>\n",
       "      <td>Lvl</td>\n",
       "      <td>AllPub</td>\n",
       "      <td>...</td>\n",
       "      <td>0</td>\n",
       "      <td>0</td>\n",
       "      <td>NaN</td>\n",
       "      <td>MnPrv</td>\n",
       "      <td>NaN</td>\n",
       "      <td>0</td>\n",
       "      <td>3</td>\n",
       "      <td>2010</td>\n",
       "      <td>WD</td>\n",
       "      <td>Normal</td>\n",
       "    </tr>\n",
       "    <tr>\n",
       "      <th>3</th>\n",
       "      <td>1464</td>\n",
       "      <td>60</td>\n",
       "      <td>RL</td>\n",
       "      <td>78.0</td>\n",
       "      <td>9978</td>\n",
       "      <td>Pave</td>\n",
       "      <td>NaN</td>\n",
       "      <td>IR1</td>\n",
       "      <td>Lvl</td>\n",
       "      <td>AllPub</td>\n",
       "      <td>...</td>\n",
       "      <td>0</td>\n",
       "      <td>0</td>\n",
       "      <td>NaN</td>\n",
       "      <td>NaN</td>\n",
       "      <td>NaN</td>\n",
       "      <td>0</td>\n",
       "      <td>6</td>\n",
       "      <td>2010</td>\n",
       "      <td>WD</td>\n",
       "      <td>Normal</td>\n",
       "    </tr>\n",
       "    <tr>\n",
       "      <th>4</th>\n",
       "      <td>1465</td>\n",
       "      <td>120</td>\n",
       "      <td>RL</td>\n",
       "      <td>43.0</td>\n",
       "      <td>5005</td>\n",
       "      <td>Pave</td>\n",
       "      <td>NaN</td>\n",
       "      <td>IR1</td>\n",
       "      <td>HLS</td>\n",
       "      <td>AllPub</td>\n",
       "      <td>...</td>\n",
       "      <td>144</td>\n",
       "      <td>0</td>\n",
       "      <td>NaN</td>\n",
       "      <td>NaN</td>\n",
       "      <td>NaN</td>\n",
       "      <td>0</td>\n",
       "      <td>1</td>\n",
       "      <td>2010</td>\n",
       "      <td>WD</td>\n",
       "      <td>Normal</td>\n",
       "    </tr>\n",
       "  </tbody>\n",
       "</table>\n",
       "<p>5 rows × 80 columns</p>\n",
       "</div>"
      ],
      "text/plain": [
       "     Id  MSSubClass MSZoning  LotFrontage  LotArea Street Alley LotShape  \\\n",
       "0  1461          20       RH         80.0    11622   Pave   NaN      Reg   \n",
       "1  1462          20       RL         81.0    14267   Pave   NaN      IR1   \n",
       "2  1463          60       RL         74.0    13830   Pave   NaN      IR1   \n",
       "3  1464          60       RL         78.0     9978   Pave   NaN      IR1   \n",
       "4  1465         120       RL         43.0     5005   Pave   NaN      IR1   \n",
       "\n",
       "  LandContour Utilities  ... ScreenPorch PoolArea PoolQC  Fence MiscFeature  \\\n",
       "0         Lvl    AllPub  ...         120        0    NaN  MnPrv         NaN   \n",
       "1         Lvl    AllPub  ...           0        0    NaN    NaN        Gar2   \n",
       "2         Lvl    AllPub  ...           0        0    NaN  MnPrv         NaN   \n",
       "3         Lvl    AllPub  ...           0        0    NaN    NaN         NaN   \n",
       "4         HLS    AllPub  ...         144        0    NaN    NaN         NaN   \n",
       "\n",
       "  MiscVal MoSold  YrSold  SaleType  SaleCondition  \n",
       "0       0      6    2010        WD         Normal  \n",
       "1   12500      6    2010        WD         Normal  \n",
       "2       0      3    2010        WD         Normal  \n",
       "3       0      6    2010        WD         Normal  \n",
       "4       0      1    2010        WD         Normal  \n",
       "\n",
       "[5 rows x 80 columns]"
      ]
     },
     "execution_count": 18,
     "metadata": {},
     "output_type": "execute_result"
    }
   ],
   "source": [
    "test_data.head()"
   ]
  },
  {
   "cell_type": "markdown",
   "metadata": {},
   "source": [
    "#### Eliminating null values\n",
    "first we make a copy of the test_data and make a heatmap to visualize the null values."
   ]
  },
  {
   "cell_type": "code",
   "execution_count": 19,
   "metadata": {
    "execution": {
     "iopub.execute_input": "2025-02-11T14:57:22.798365Z",
     "iopub.status.busy": "2025-02-11T14:57:22.797977Z",
     "iopub.status.idle": "2025-02-11T14:57:23.277878Z",
     "shell.execute_reply": "2025-02-11T14:57:23.276653Z",
     "shell.execute_reply.started": "2025-02-11T14:57:22.798334Z"
    },
    "trusted": true
   },
   "outputs": [
    {
     "data": {
      "text/plain": [
       "<Axes: >"
      ]
     },
     "execution_count": 19,
     "metadata": {},
     "output_type": "execute_result"
    },
    {
     "data": {
      "image/png": "[encoded data removed]",
      "text/plain": [
       "<Figure size 640x480 with 1 Axes>"
      ]
     },
     "metadata": {},
     "output_type": "display_data"
    }
   ],
   "source": [
    "sns.heatmap(test_data.isnull(), cbar=False, yticklabels=False)"
   ]
  },
  {
   "cell_type": "markdown",
   "metadata": {},
   "source": [
    "Next, we apply the same procedure we used for the train data to eliminate the null values."
   ]
  },
  {
   "cell_type": "code",
   "execution_count": 20,
   "metadata": {
    "execution": {
     "iopub.execute_input": "2025-02-11T14:57:23.279305Z",
     "iopub.status.busy": "2025-02-11T14:57:23.279004Z",
     "iopub.status.idle": "2025-02-11T14:57:23.302274Z",
     "shell.execute_reply": "2025-02-11T14:57:23.300927Z",
     "shell.execute_reply.started": "2025-02-11T14:57:23.279281Z"
    },
    "trusted": true
   },
   "outputs": [
    {
     "data": {
      "text/plain": [
       "(1459, 73)"
      ]
     },
     "execution_count": 20,
     "metadata": {},
     "output_type": "execute_result"
    }
   ],
   "source": [
    "# Exploring columns with high amount of missing values. Eliminating columns\n",
    "df_test = test_data.copy()\n",
    "\n",
    "null_list = df_test.isnull().sum()\n",
    "# Index and values are converted to list to print them\n",
    "index = list(null_list.index)\n",
    "values = list(null_list)\n",
    "\n",
    "n = len(df_test)\n",
    "threshold = 0.5\n",
    "\n",
    "for idx, value in zip (index, values):\n",
    "    ratio = value/n\n",
    "    if ratio >= threshold:\n",
    "        # print(f\"{ratio} - {idx}: {value}\")\n",
    "        # The column is dropped\n",
    "        df_test = df_test.drop(idx, axis=1)\n",
    "        \n",
    "#The column \"id\" is also eliminated because it doesn't give any valuable information\n",
    "df_test = df_test.drop(\"Id\", axis=1)\n",
    "\n",
    "df_test.shape"
   ]
  },
  {
   "cell_type": "markdown",
   "metadata": {},
   "source": [
    "The function fill_missing is used next:"
   ]
  },
  {
   "cell_type": "code",
   "execution_count": 21,
   "metadata": {
    "execution": {
     "iopub.execute_input": "2025-02-11T14:57:23.306451Z",
     "iopub.status.busy": "2025-02-11T14:57:23.306095Z",
     "iopub.status.idle": "2025-02-11T14:57:23.839468Z",
     "shell.execute_reply": "2025-02-11T14:57:23.838207Z",
     "shell.execute_reply.started": "2025-02-11T14:57:23.306420Z"
    },
    "trusted": true
   },
   "outputs": [
    {
     "name": "stdout",
     "output_type": "stream",
     "text": [
      "(1459, 73)\n"
     ]
    },
    {
     "data": {
      "image/png": "[encoded data removed]",
      "text/plain": [
       "<Figure size 640x480 with 1 Axes>"
      ]
     },
     "metadata": {},
     "output_type": "display_data"
    }
   ],
   "source": [
    "fill_missing(df_test)\n",
    "\n",
    "# We can visualize the result with a heatmap\n",
    "sns.heatmap(df_test.isnull(), cbar=False, yticklabels=False)\n",
    "print(df_test.shape)"
   ]
  },
  {
   "cell_type": "markdown",
   "metadata": {},
   "source": [
    "### Joining both data frames\n",
    "The next step is to join the training and test dataframes and use the function ``one_hot_encode`` over the resulting dataframe"
   ]
  },
  {
   "cell_type": "code",
   "execution_count": 22,
   "metadata": {
    "execution": {
     "iopub.execute_input": "2025-02-11T14:57:23.841879Z",
     "iopub.status.busy": "2025-02-11T14:57:23.841424Z",
     "iopub.status.idle": "2025-02-11T14:57:23.848672Z",
     "shell.execute_reply": "2025-02-11T14:57:23.847387Z",
     "shell.execute_reply.started": "2025-02-11T14:57:23.841837Z"
    },
    "trusted": true
   },
   "outputs": [
    {
     "name": "stdout",
     "output_type": "stream",
     "text": [
      "(1460, 74) (1459, 73)\n"
     ]
    }
   ],
   "source": [
    "print(df_train.shape, df_test.shape)\n"
   ]
  },
  {
   "cell_type": "markdown",
   "metadata": {},
   "source": [
    "As we can see, there are differences in the number of columns in the train and test dataframes. Let's find out what feature is different."
   ]
  },
  {
   "cell_type": "code",
   "execution_count": 23,
   "metadata": {
    "execution": {
     "iopub.execute_input": "2025-02-11T14:57:23.850676Z",
     "iopub.status.busy": "2025-02-11T14:57:23.850164Z",
     "iopub.status.idle": "2025-02-11T14:57:23.883556Z",
     "shell.execute_reply": "2025-02-11T14:57:23.881983Z",
     "shell.execute_reply.started": "2025-02-11T14:57:23.850630Z"
    },
    "trusted": true
   },
   "outputs": [
    {
     "name": "stdout",
     "output_type": "stream",
     "text": [
      "The non repeated column is: FireplaceQu. This column is present in the train data frame but not in the test dataframe\n"
     ]
    }
   ],
   "source": [
    "for element in df_train.columns:\n",
    "    if element not in df_test.columns:\n",
    "        notPresent = element\n",
    "\n",
    "print (f\"The non repeated column is: {notPresent}. This column is present in the train data frame but not in the test dataframe\")\n",
    "\n",
    "# print(df_train[\"FireplaceQu\"])"
   ]
  },
  {
   "cell_type": "markdown",
   "metadata": {},
   "source": [
    "However, this variable was removed from the test data, because of small variations in the total amount of null values for this column in both dataframes. The criteria we'll be using is the following:  \n",
    "\n",
    "The columns in the df_test must match the columns in the df_train. Therefore, we're just adding back the column ``FireplaceQu`` to the df_test"
   ]
  },
  {
   "cell_type": "code",
   "execution_count": 24,
   "metadata": {
    "execution": {
     "iopub.execute_input": "2025-02-11T14:57:23.884788Z",
     "iopub.status.busy": "2025-02-11T14:57:23.884418Z",
     "iopub.status.idle": "2025-02-11T14:57:23.926406Z",
     "shell.execute_reply": "2025-02-11T14:57:23.924993Z",
     "shell.execute_reply.started": "2025-02-11T14:57:23.884744Z"
    },
    "trusted": true
   },
   "outputs": [
    {
     "name": "stdout",
     "output_type": "stream",
     "text": [
      "(1459, 74)\n"
     ]
    }
   ],
   "source": [
    "df_test = pd.concat([df_test, test_data[\"FireplaceQu\"]], axis=1)\n",
    "print(df_test.shape)"
   ]
  },
  {
   "cell_type": "markdown",
   "metadata": {},
   "source": [
    "With this treatment, we have the same columns for both the train and test datasets. We can see the shapes of all the key data frames below:"
   ]
  },
  {
   "cell_type": "code",
   "execution_count": 25,
   "metadata": {
    "execution": {
     "iopub.execute_input": "2025-02-11T14:57:23.928006Z",
     "iopub.status.busy": "2025-02-11T14:57:23.927481Z",
     "iopub.status.idle": "2025-02-11T14:57:23.952412Z",
     "shell.execute_reply": "2025-02-11T14:57:23.951142Z",
     "shell.execute_reply.started": "2025-02-11T14:57:23.927819Z"
    },
    "trusted": true
   },
   "outputs": [
    {
     "name": "stdout",
     "output_type": "stream",
     "text": [
      "(1460, 74) (1459, 74)\n"
     ]
    }
   ],
   "source": [
    "print(df_train.shape, df_test.shape)\n",
    "\n",
    "# The dataframes are concatenated\n",
    "total_df = pd.concat([df_train, df_test], axis=0)\n"
   ]
  },
  {
   "cell_type": "markdown",
   "metadata": {},
   "source": [
    "Now we use the one-hot-encode function"
   ]
  },
  {
   "cell_type": "code",
   "execution_count": 26,
   "metadata": {
    "execution": {
     "iopub.execute_input": "2025-02-11T14:57:23.954075Z",
     "iopub.status.busy": "2025-02-11T14:57:23.953648Z",
     "iopub.status.idle": "2025-02-11T14:57:24.097144Z",
     "shell.execute_reply": "2025-02-11T14:57:24.095819Z",
     "shell.execute_reply.started": "2025-02-11T14:57:23.954040Z"
    },
    "trusted": true
   },
   "outputs": [
    {
     "name": "stdout",
     "output_type": "stream",
     "text": [
      "(2919, 271)\n"
     ]
    }
   ],
   "source": [
    "encoded_df = one_hot_encode(total_df)\n",
    "print(encoded_df.shape)"
   ]
  },
  {
   "cell_type": "markdown",
   "metadata": {},
   "source": [
    "The elimination of duplicate columns is the final step in Data analysis"
   ]
  },
  {
   "cell_type": "code",
   "execution_count": 27,
   "metadata": {
    "execution": {
     "iopub.execute_input": "2025-02-11T14:57:24.098469Z",
     "iopub.status.busy": "2025-02-11T14:57:24.098159Z",
     "iopub.status.idle": "2025-02-11T14:57:24.116386Z",
     "shell.execute_reply": "2025-02-11T14:57:24.115121Z",
     "shell.execute_reply.started": "2025-02-11T14:57:24.098442Z"
    },
    "trusted": true
   },
   "outputs": [
    {
     "name": "stdout",
     "output_type": "stream",
     "text": [
      "   MSSubClass  MSZoning_C (all)  MSZoning_FV  MSZoning_RH  MSZoning_RL  \\\n",
      "0          60             False        False        False         True   \n",
      "1          20             False        False        False         True   \n",
      "2          60             False        False        False         True   \n",
      "3          70             False        False        False         True   \n",
      "4          60             False        False        False         True   \n",
      "\n",
      "   MSZoning_RM  LotFrontage  LotArea  Street_Grvl  Street_Pave  ...  \\\n",
      "0        False         65.0     8450        False         True  ...   \n",
      "1        False         80.0     9600        False         True  ...   \n",
      "2        False         68.0    11250        False         True  ...   \n",
      "3        False         60.0     9550        False         True  ...   \n",
      "4        False         84.0    14260        False         True  ...   \n",
      "\n",
      "   SaleType_ConLw  SaleType_New  SaleType_Oth  SaleType_WD  \\\n",
      "0           False         False         False         True   \n",
      "1           False         False         False         True   \n",
      "2           False         False         False         True   \n",
      "3           False         False         False         True   \n",
      "4           False         False         False         True   \n",
      "\n",
      "   SaleCondition_Abnorml  SaleCondition_AdjLand  SaleCondition_Alloca  \\\n",
      "0                  False                  False                 False   \n",
      "1                  False                  False                 False   \n",
      "2                  False                  False                 False   \n",
      "3                   True                  False                 False   \n",
      "4                  False                  False                 False   \n",
      "\n",
      "   SaleCondition_Family  SaleCondition_Normal  SaleCondition_Partial  \n",
      "0                 False                  True                  False  \n",
      "1                 False                  True                  False  \n",
      "2                 False                  True                  False  \n",
      "3                 False                 False                  False  \n",
      "4                 False                  True                  False  \n",
      "\n",
      "[5 rows x 271 columns]\n",
      "Empty DataFrame\n",
      "Columns: []\n",
      "Index: [0, 1, 2, 3, 4]\n"
     ]
    }
   ],
   "source": [
    "print(encoded_df.head())\n",
    "# I want to know what columns are the duplicated\n",
    "pos_dup = encoded_df.columns.duplicated().tolist()\n",
    "# print(pos_dup.tolist())\n",
    "df_filtered = encoded_df.loc[:, pos_dup]\n",
    "print(df_filtered.head())\n",
    "# print(df_filtrado.shape)"
   ]
  },
  {
   "cell_type": "markdown",
   "metadata": {},
   "source": [
    "The inclusion of a prefix in the one hot encoded dataframe avoids the incorrect elimination of columns of differente categories that may seem duplicates, but are not.\n",
    "\n",
    "At this point we have concluded the treatment of the training and data sets. Now, we're separating the dataframe again into training, cross validation and test sets and start applying some kind of machine learning algorithm to make our predictions.\n"
   ]
  },
  {
   "cell_type": "markdown",
   "metadata": {},
   "source": [
    "## Building a Machine Learning Model\n",
    "\n",
    "At this point we can regenerate the training and test data sets from the encoded data frame."
   ]
  },
  {
   "cell_type": "code",
   "execution_count": 28,
   "metadata": {
    "execution": {
     "iopub.execute_input": "2025-02-11T14:57:24.118282Z",
     "iopub.status.busy": "2025-02-11T14:57:24.117797Z",
     "iopub.status.idle": "2025-02-11T14:57:24.137107Z",
     "shell.execute_reply": "2025-02-11T14:57:24.135724Z",
     "shell.execute_reply.started": "2025-02-11T14:57:24.118235Z"
    },
    "trusted": true
   },
   "outputs": [
    {
     "name": "stdout",
     "output_type": "stream",
     "text": [
      "(1460, 271) (1459, 271)\n"
     ]
    }
   ],
   "source": [
    "df_train = encoded_df.iloc[:1460,:]\n",
    "df_test = encoded_df.iloc[1460:,:]\n",
    "print(df_train.shape, df_test.shape)"
   ]
  },
  {
   "cell_type": "markdown",
   "metadata": {},
   "source": [
    "The XGBoost (eXtreme Gradient Boosting) algorithm is implemented below."
   ]
  },
  {
   "cell_type": "code",
   "execution_count": 29,
   "metadata": {
    "execution": {
     "iopub.execute_input": "2025-02-11T15:04:05.264696Z",
     "iopub.status.busy": "2025-02-11T15:04:05.264256Z",
     "iopub.status.idle": "2025-02-11T15:04:05.774136Z",
     "shell.execute_reply": "2025-02-11T15:04:05.772979Z",
     "shell.execute_reply.started": "2025-02-11T15:04:05.264665Z"
    },
    "trusted": true
   },
   "outputs": [
    {
     "data": {
      "text/html": [
       "<style>#sk-container-id-1 {\n",
       "  /* Definition of color scheme common for light and dark mode */\n",
       "  --sklearn-color-text: #000;\n",
       "  --sklearn-color-text-muted: #666;\n",
       "  --sklearn-color-line: gray;\n",
       "  /* Definition of color scheme for unfitted estimators */\n",
       "  --sklearn-color-unfitted-level-0: #fff5e6;\n",
       "  --sklearn-color-unfitted-level-1: #f6e4d2;\n",
       "  --sklearn-color-unfitted-level-2: #ffe0b3;\n",
       "  --sklearn-color-unfitted-level-3: chocolate;\n",
       "  /* Definition of color scheme for fitted estimators */\n",
       "  --sklearn-color-fitted-level-0: #f0f8ff;\n",
       "  --sklearn-color-fitted-level-1: #d4ebff;\n",
       "  --sklearn-color-fitted-level-2: #b3dbfd;\n",
       "  --sklearn-color-fitted-level-3: cornflowerblue;\n",
       "\n",
       "  /* Specific color for light theme */\n",
       "  --sklearn-color-text-on-default-background: var(--sg-text-color, var(--theme-code-foreground, var(--jp-content-font-color1, black)));\n",
       "  --sklearn-color-background: var(--sg-background-color, var(--theme-background, var(--jp-layout-color0, white)));\n",
       "  --sklearn-color-border-box: var(--sg-text-color, var(--theme-code-foreground, var(--jp-content-font-color1, black)));\n",
       "  --sklearn-color-icon: #696969;\n",
       "\n",
       "  @media (prefers-color-scheme: dark) {\n",
       "    /* Redefinition of color scheme for dark theme */\n",
       "    --sklearn-color-text-on-default-background: var(--sg-text-color, var(--theme-code-foreground, var(--jp-content-font-color1, white)));\n",
       "    --sklearn-color-background: var(--sg-background-color, var(--theme-background, var(--jp-layout-color0, #111)));\n",
       "    --sklearn-color-border-box: var(--sg-text-color, var(--theme-code-foreground, var(--jp-content-font-color1, white)));\n",
       "    --sklearn-color-icon: #878787;\n",
       "  }\n",
       "}\n",
       "\n",
       "#sk-container-id-1 {\n",
       "  color: var(--sklearn-color-text);\n",
       "}\n",
       "\n",
       "#sk-container-id-1 pre {\n",
       "  padding: 0;\n",
       "}\n",
       "\n",
       "#sk-container-id-1 input.sk-hidden--visually {\n",
       "  border: 0;\n",
       "  clip: rect(1px 1px 1px 1px);\n",
       "  clip: rect(1px, 1px, 1px, 1px);\n",
       "  height: 1px;\n",
       "  margin: -1px;\n",
       "  overflow: hidden;\n",
       "  padding: 0;\n",
       "  position: absolute;\n",
       "  width: 1px;\n",
       "}\n",
       "\n",
       "#sk-container-id-1 div.sk-dashed-wrapped {\n",
       "  border: 1px dashed var(--sklearn-color-line);\n",
       "  margin: 0 0.4em 0.5em 0.4em;\n",
       "  box-sizing: border-box;\n",
       "  padding-bottom: 0.4em;\n",
       "  background-color: var(--sklearn-color-background);\n",
       "}\n",
       "\n",
       "#sk-container-id-1 div.sk-container {\n",
       "  /* jupyter's `normalize.less` sets `[hidden] { display: none; }`\n",
       "     but bootstrap.min.css set `[hidden] { display: none !important; }`\n",
       "     so we also need the `!important` here to be able to override the\n",
       "     default hidden behavior on the sphinx rendered scikit-learn.org.\n",
       "     See: https://github.com/scikit-learn/scikit-learn/issues/21755 */\n",
       "  display: inline-block !important;\n",
       "  position: relative;\n",
       "}\n",
       "\n",
       "#sk-container-id-1 div.sk-text-repr-fallback {\n",
       "  display: none;\n",
       "}\n",
       "\n",
       "div.sk-parallel-item,\n",
       "div.sk-serial,\n",
       "div.sk-item {\n",
       "  /* draw centered vertical line to link estimators */\n",
       "  background-image: linear-gradient(var(--sklearn-color-text-on-default-background), var(--sklearn-color-text-on-default-background));\n",
       "  background-size: 2px 100%;\n",
       "  background-repeat: no-repeat;\n",
       "  background-position: center center;\n",
       "}\n",
       "\n",
       "/* Parallel-specific style estimator block */\n",
       "\n",
       "#sk-container-id-1 div.sk-parallel-item::after {\n",
       "  content: \"\";\n",
       "  width: 100%;\n",
       "  border-bottom: 2px solid var(--sklearn-color-text-on-default-background);\n",
       "  flex-grow: 1;\n",
       "}\n",
       "\n",
       "#sk-container-id-1 div.sk-parallel {\n",
       "  display: flex;\n",
       "  align-items: stretch;\n",
       "  justify-content: center;\n",
       "  background-color: var(--sklearn-color-background);\n",
       "  position: relative;\n",
       "}\n",
       "\n",
       "#sk-container-id-1 div.sk-parallel-item {\n",
       "  display: flex;\n",
       "  flex-direction: column;\n",
       "}\n",
       "\n",
       "#sk-container-id-1 div.sk-parallel-item:first-child::after {\n",
       "  align-self: flex-end;\n",
       "  width: 50%;\n",
       "}\n",
       "\n",
       "#sk-container-id-1 div.sk-parallel-item:last-child::after {\n",
       "  align-self: flex-start;\n",
       "  width: 50%;\n",
       "}\n",
       "\n",
       "#sk-container-id-1 div.sk-parallel-item:only-child::after {\n",
       "  width: 0;\n",
       "}\n",
       "\n",
       "/* Serial-specific style estimator block */\n",
       "\n",
       "#sk-container-id-1 div.sk-serial {\n",
       "  display: flex;\n",
       "  flex-direction: column;\n",
       "  align-items: center;\n",
       "  background-color: var(--sklearn-color-background);\n",
       "  padding-right: 1em;\n",
       "  padding-left: 1em;\n",
       "}\n",
       "\n",
       "\n",
       "/* Toggleable style: style used for estimator/Pipeline/ColumnTransformer box that is\n",
       "clickable and can be expanded/collapsed.\n",
       "- Pipeline and ColumnTransformer use this feature and define the default style\n",
       "- Estimators will overwrite some part of the style using the `sk-estimator` class\n",
       "*/\n",
       "\n",
       "/* Pipeline and ColumnTransformer style (default) */\n",
       "\n",
       "#sk-container-id-1 div.sk-toggleable {\n",
       "  /* Default theme specific background. It is overwritten whether we have a\n",
       "  specific estimator or a Pipeline/ColumnTransformer */\n",
       "  background-color: var(--sklearn-color-background);\n",
       "}\n",
       "\n",
       "/* Toggleable label */\n",
       "#sk-container-id-1 label.sk-toggleable__label {\n",
       "  cursor: pointer;\n",
       "  display: flex;\n",
       "  width: 100%;\n",
       "  margin-bottom: 0;\n",
       "  padding: 0.5em;\n",
       "  box-sizing: border-box;\n",
       "  text-align: center;\n",
       "  align-items: start;\n",
       "  justify-content: space-between;\n",
       "  gap: 0.5em;\n",
       "}\n",
       "\n",
       "#sk-container-id-1 label.sk-toggleable__label .caption {\n",
       "  font-size: 0.6rem;\n",
       "  font-weight: lighter;\n",
       "  color: var(--sklearn-color-text-muted);\n",
       "}\n",
       "\n",
       "#sk-container-id-1 label.sk-toggleable__label-arrow:before {\n",
       "  /* Arrow on the left of the label */\n",
       "  content: \"▸\";\n",
       "  float: left;\n",
       "  margin-right: 0.25em;\n",
       "  color: var(--sklearn-color-icon);\n",
       "}\n",
       "\n",
       "#sk-container-id-1 label.sk-toggleable__label-arrow:hover:before {\n",
       "  color: var(--sklearn-color-text);\n",
       "}\n",
       "\n",
       "/* Toggleable content - dropdown */\n",
       "\n",
       "#sk-container-id-1 div.sk-toggleable__content {\n",
       "  max-height: 0;\n",
       "  max-width: 0;\n",
       "  overflow: hidden;\n",
       "  text-align: left;\n",
       "  /* unfitted */\n",
       "  background-color: var(--sklearn-color-unfitted-level-0);\n",
       "}\n",
       "\n",
       "#sk-container-id-1 div.sk-toggleable__content.fitted {\n",
       "  /* fitted */\n",
       "  background-color: var(--sklearn-color-fitted-level-0);\n",
       "}\n",
       "\n",
       "#sk-container-id-1 div.sk-toggleable__content pre {\n",
       "  margin: 0.2em;\n",
       "  border-radius: 0.25em;\n",
       "  color: var(--sklearn-color-text);\n",
       "  /* unfitted */\n",
       "  background-color: var(--sklearn-color-unfitted-level-0);\n",
       "}\n",
       "\n",
       "#sk-container-id-1 div.sk-toggleable__content.fitted pre {\n",
       "  /* unfitted */\n",
       "  background-color: var(--sklearn-color-fitted-level-0);\n",
       "}\n",
       "\n",
       "#sk-container-id-1 input.sk-toggleable__control:checked~div.sk-toggleable__content {\n",
       "  /* Expand drop-down */\n",
       "  max-height: 200px;\n",
       "  max-width: 100%;\n",
       "  overflow: auto;\n",
       "}\n",
       "\n",
       "#sk-container-id-1 input.sk-toggleable__control:checked~label.sk-toggleable__label-arrow:before {\n",
       "  content: \"▾\";\n",
       "}\n",
       "\n",
       "/* Pipeline/ColumnTransformer-specific style */\n",
       "\n",
       "#sk-container-id-1 div.sk-label input.sk-toggleable__control:checked~label.sk-toggleable__label {\n",
       "  color: var(--sklearn-color-text);\n",
       "  background-color: var(--sklearn-color-unfitted-level-2);\n",
       "}\n",
       "\n",
       "#sk-container-id-1 div.sk-label.fitted input.sk-toggleable__control:checked~label.sk-toggleable__label {\n",
       "  background-color: var(--sklearn-color-fitted-level-2);\n",
       "}\n",
       "\n",
       "/* Estimator-specific style */\n",
       "\n",
       "/* Colorize estimator box */\n",
       "#sk-container-id-1 div.sk-estimator input.sk-toggleable__control:checked~label.sk-toggleable__label {\n",
       "  /* unfitted */\n",
       "  background-color: var(--sklearn-color-unfitted-level-2);\n",
       "}\n",
       "\n",
       "#sk-container-id-1 div.sk-estimator.fitted input.sk-toggleable__control:checked~label.sk-toggleable__label {\n",
       "  /* fitted */\n",
       "  background-color: var(--sklearn-color-fitted-level-2);\n",
       "}\n",
       "\n",
       "#sk-container-id-1 div.sk-label label.sk-toggleable__label,\n",
       "#sk-container-id-1 div.sk-label label {\n",
       "  /* The background is the default theme color */\n",
       "  color: var(--sklearn-color-text-on-default-background);\n",
       "}\n",
       "\n",
       "/* On hover, darken the color of the background */\n",
       "#sk-container-id-1 div.sk-label:hover label.sk-toggleable__label {\n",
       "  color: var(--sklearn-color-text);\n",
       "  background-color: var(--sklearn-color-unfitted-level-2);\n",
       "}\n",
       "\n",
       "/* Label box, darken color on hover, fitted */\n",
       "#sk-container-id-1 div.sk-label.fitted:hover label.sk-toggleable__label.fitted {\n",
       "  color: var(--sklearn-color-text);\n",
       "  background-color: var(--sklearn-color-fitted-level-2);\n",
       "}\n",
       "\n",
       "/* Estimator label */\n",
       "\n",
       "#sk-container-id-1 div.sk-label label {\n",
       "  font-family: monospace;\n",
       "  font-weight: bold;\n",
       "  display: inline-block;\n",
       "  line-height: 1.2em;\n",
       "}\n",
       "\n",
       "#sk-container-id-1 div.sk-label-container {\n",
       "  text-align: center;\n",
       "}\n",
       "\n",
       "/* Estimator-specific */\n",
       "#sk-container-id-1 div.sk-estimator {\n",
       "  font-family: monospace;\n",
       "  border: 1px dotted var(--sklearn-color-border-box);\n",
       "  border-radius: 0.25em;\n",
       "  box-sizing: border-box;\n",
       "  margin-bottom: 0.5em;\n",
       "  /* unfitted */\n",
       "  background-color: var(--sklearn-color-unfitted-level-0);\n",
       "}\n",
       "\n",
       "#sk-container-id-1 div.sk-estimator.fitted {\n",
       "  /* fitted */\n",
       "  background-color: var(--sklearn-color-fitted-level-0);\n",
       "}\n",
       "\n",
       "/* on hover */\n",
       "#sk-container-id-1 div.sk-estimator:hover {\n",
       "  /* unfitted */\n",
       "  background-color: var(--sklearn-color-unfitted-level-2);\n",
       "}\n",
       "\n",
       "#sk-container-id-1 div.sk-estimator.fitted:hover {\n",
       "  /* fitted */\n",
       "  background-color: var(--sklearn-color-fitted-level-2);\n",
       "}\n",
       "\n",
       "/* Specification for estimator info (e.g. \"i\" and \"?\") */\n",
       "\n",
       "/* Common style for \"i\" and \"?\" */\n",
       "\n",
       ".sk-estimator-doc-link,\n",
       "a:link.sk-estimator-doc-link,\n",
       "a:visited.sk-estimator-doc-link {\n",
       "  float: right;\n",
       "  font-size: smaller;\n",
       "  line-height: 1em;\n",
       "  font-family: monospace;\n",
       "  background-color: var(--sklearn-color-background);\n",
       "  border-radius: 1em;\n",
       "  height: 1em;\n",
       "  width: 1em;\n",
       "  text-decoration: none !important;\n",
       "  margin-left: 0.5em;\n",
       "  text-align: center;\n",
       "  /* unfitted */\n",
       "  border: var(--sklearn-color-unfitted-level-1) 1pt solid;\n",
       "  color: var(--sklearn-color-unfitted-level-1);\n",
       "}\n",
       "\n",
       ".sk-estimator-doc-link.fitted,\n",
       "a:link.sk-estimator-doc-link.fitted,\n",
       "a:visited.sk-estimator-doc-link.fitted {\n",
       "  /* fitted */\n",
       "  border: var(--sklearn-color-fitted-level-1) 1pt solid;\n",
       "  color: var(--sklearn-color-fitted-level-1);\n",
       "}\n",
       "\n",
       "/* On hover */\n",
       "div.sk-estimator:hover .sk-estimator-doc-link:hover,\n",
       ".sk-estimator-doc-link:hover,\n",
       "div.sk-label-container:hover .sk-estimator-doc-link:hover,\n",
       ".sk-estimator-doc-link:hover {\n",
       "  /* unfitted */\n",
       "  background-color: var(--sklearn-color-unfitted-level-3);\n",
       "  color: var(--sklearn-color-background);\n",
       "  text-decoration: none;\n",
       "}\n",
       "\n",
       "div.sk-estimator.fitted:hover .sk-estimator-doc-link.fitted:hover,\n",
       ".sk-estimator-doc-link.fitted:hover,\n",
       "div.sk-label-container:hover .sk-estimator-doc-link.fitted:hover,\n",
       ".sk-estimator-doc-link.fitted:hover {\n",
       "  /* fitted */\n",
       "  background-color: var(--sklearn-color-fitted-level-3);\n",
       "  color: var(--sklearn-color-background);\n",
       "  text-decoration: none;\n",
       "}\n",
       "\n",
       "/* Span, style for the box shown on hovering the info icon */\n",
       ".sk-estimator-doc-link span {\n",
       "  display: none;\n",
       "  z-index: 9999;\n",
       "  position: relative;\n",
       "  font-weight: normal;\n",
       "  right: .2ex;\n",
       "  padding: .5ex;\n",
       "  margin: .5ex;\n",
       "  width: min-content;\n",
       "  min-width: 20ex;\n",
       "  max-width: 50ex;\n",
       "  color: var(--sklearn-color-text);\n",
       "  box-shadow: 2pt 2pt 4pt #999;\n",
       "  /* unfitted */\n",
       "  background: var(--sklearn-color-unfitted-level-0);\n",
       "  border: .5pt solid var(--sklearn-color-unfitted-level-3);\n",
       "}\n",
       "\n",
       ".sk-estimator-doc-link.fitted span {\n",
       "  /* fitted */\n",
       "  background: var(--sklearn-color-fitted-level-0);\n",
       "  border: var(--sklearn-color-fitted-level-3);\n",
       "}\n",
       "\n",
       ".sk-estimator-doc-link:hover span {\n",
       "  display: block;\n",
       "}\n",
       "\n",
       "/* \"?\"-specific style due to the `<a>` HTML tag */\n",
       "\n",
       "#sk-container-id-1 a.estimator_doc_link {\n",
       "  float: right;\n",
       "  font-size: 1rem;\n",
       "  line-height: 1em;\n",
       "  font-family: monospace;\n",
       "  background-color: var(--sklearn-color-background);\n",
       "  border-radius: 1rem;\n",
       "  height: 1rem;\n",
       "  width: 1rem;\n",
       "  text-decoration: none;\n",
       "  /* unfitted */\n",
       "  color: var(--sklearn-color-unfitted-level-1);\n",
       "  border: var(--sklearn-color-unfitted-level-1) 1pt solid;\n",
       "}\n",
       "\n",
       "#sk-container-id-1 a.estimator_doc_link.fitted {\n",
       "  /* fitted */\n",
       "  border: var(--sklearn-color-fitted-level-1) 1pt solid;\n",
       "  color: var(--sklearn-color-fitted-level-1);\n",
       "}\n",
       "\n",
       "/* On hover */\n",
       "#sk-container-id-1 a.estimator_doc_link:hover {\n",
       "  /* unfitted */\n",
       "  background-color: var(--sklearn-color-unfitted-level-3);\n",
       "  color: var(--sklearn-color-background);\n",
       "  text-decoration: none;\n",
       "}\n",
       "\n",
       "#sk-container-id-1 a.estimator_doc_link.fitted:hover {\n",
       "  /* fitted */\n",
       "  background-color: var(--sklearn-color-fitted-level-3);\n",
       "}\n",
       "</style><div id=\"sk-container-id-1\" class=\"sk-top-container\"><div class=\"sk-text-repr-fallback\"><pre>XGBRegressor(base_score=None, booster=None, callbacks=None,\n",
       "             colsample_bylevel=None, colsample_bynode=None,\n",
       "             colsample_bytree=None, device=None, early_stopping_rounds=None,\n",
       "             enable_categorical=False, eval_metric=None, feature_types=None,\n",
       "             gamma=None, grow_policy=None, importance_type=None,\n",
       "             interaction_constraints=None, learning_rate=None, max_bin=None,\n",
       "             max_cat_threshold=None, max_cat_to_onehot=None,\n",
       "             max_delta_step=None, max_depth=None, max_leaves=None,\n",
       "             min_child_weight=None, missing=nan, monotone_constraints=None,\n",
       "             multi_strategy=None, n_estimators=None, n_jobs=None,\n",
       "             num_parallel_tree=None, random_state=None, ...)</pre><b>In a Jupyter environment, please rerun this cell to show the HTML representation or trust the notebook. <br />On GitHub, the HTML representation is unable to render, please try loading this page with nbviewer.org.</b></div><div class=\"sk-container\" hidden><div class=\"sk-item\"><div class=\"sk-estimator fitted sk-toggleable\"><input class=\"sk-toggleable__control sk-hidden--visually\" id=\"sk-estimator-id-1\" type=\"checkbox\" checked><label for=\"sk-estimator-id-1\" class=\"sk-toggleable__label fitted sk-toggleable__label-arrow\"><div><div>XGBRegressor</div></div><div><span class=\"sk-estimator-doc-link fitted\">i<span>Fitted</span></span></div></label><div class=\"sk-toggleable__content fitted\"><pre>XGBRegressor(base_score=None, booster=None, callbacks=None,\n",
       "             colsample_bylevel=None, colsample_bynode=None,\n",
       "             colsample_bytree=None, device=None, early_stopping_rounds=None,\n",
       "             enable_categorical=False, eval_metric=None, feature_types=None,\n",
       "             gamma=None, grow_policy=None, importance_type=None,\n",
       "             interaction_constraints=None, learning_rate=None, max_bin=None,\n",
       "             max_cat_threshold=None, max_cat_to_onehot=None,\n",
       "             max_delta_step=None, max_depth=None, max_leaves=None,\n",
       "             min_child_weight=None, missing=nan, monotone_constraints=None,\n",
       "             multi_strategy=None, n_estimators=None, n_jobs=None,\n",
       "             num_parallel_tree=None, random_state=None, ...)</pre></div> </div></div></div></div>"
      ],
      "text/plain": [
       "XGBRegressor(base_score=None, booster=None, callbacks=None,\n",
       "             colsample_bylevel=None, colsample_bynode=None,\n",
       "             colsample_bytree=None, device=None, early_stopping_rounds=None,\n",
       "             enable_categorical=False, eval_metric=None, feature_types=None,\n",
       "             gamma=None, grow_policy=None, importance_type=None,\n",
       "             interaction_constraints=None, learning_rate=None, max_bin=None,\n",
       "             max_cat_threshold=None, max_cat_to_onehot=None,\n",
       "             max_delta_step=None, max_depth=None, max_leaves=None,\n",
       "             min_child_weight=None, missing=nan, monotone_constraints=None,\n",
       "             multi_strategy=None, n_estimators=None, n_jobs=None,\n",
       "             num_parallel_tree=None, random_state=None, ...)"
      ]
     },
     "execution_count": 29,
     "metadata": {},
     "output_type": "execute_result"
    }
   ],
   "source": [
    "import xgboost as xgb\n",
    "\n",
    "classifier = xgb.XGBRegressor()\n",
    "classifier.fit(df_train, train_y)"
   ]
  },
  {
   "cell_type": "code",
   "execution_count": 30,
   "metadata": {
    "execution": {
     "iopub.execute_input": "2025-02-11T15:04:08.421821Z",
     "iopub.status.busy": "2025-02-11T15:04:08.421427Z",
     "iopub.status.idle": "2025-02-11T15:04:08.488269Z",
     "shell.execute_reply": "2025-02-11T15:04:08.486318Z",
     "shell.execute_reply.started": "2025-02-11T15:04:08.421792Z"
    },
    "trusted": true
   },
   "outputs": [
    {
     "name": "stdout",
     "output_type": "stream",
     "text": [
      "(1459,)\n"
     ]
    }
   ],
   "source": [
    "y_pred = classifier.predict(df_test)\n",
    "print(y_pred.shape)"
   ]
  },
  {
   "cell_type": "markdown",
   "metadata": {},
   "source": [
    "Finally, lets build the submission file."
   ]
  },
  {
   "cell_type": "code",
   "execution_count": 32,
   "metadata": {
    "execution": {
     "iopub.execute_input": "2025-02-11T15:04:41.641122Z",
     "iopub.status.busy": "2025-02-11T15:04:41.640596Z",
     "iopub.status.idle": "2025-02-11T15:04:41.651599Z",
     "shell.execute_reply": "2025-02-11T15:04:41.650586Z",
     "shell.execute_reply.started": "2025-02-11T15:04:41.641078Z"
    },
    "trusted": true
   },
   "outputs": [],
   "source": [
    "# A new data frame is created\n",
    "output = pd.DataFrame({\"Id\": test_data[\"Id\"], \"SalePrice\":y_pred})\n",
    "\n",
    "# The file is created and saved\n",
    "output.to_csv(\"HousingPriceSubmission.csv\", index=False)"
   ]
  },
  {
   "cell_type": "code",
   "execution_count": null,
   "metadata": {
    "trusted": true
   },
   "outputs": [],
   "source": []
  }
 ],
 "metadata": {
  "kaggle": {
   "accelerator": "none",
   "dataSources": [
    {
     "databundleVersionId": 868283,
     "sourceId": 5407,
     "sourceType": "competition"
    }
   ],
   "dockerImageVersionId": 30886,
   "isGpuEnabled": false,
   "isInternetEnabled": true,
   "language": "python",
   "sourceType": "notebook"
  },
  "kernelspec": {
   "display_name": "dataScience",
   "language": "python",
   "name": "python3"
  },
  "language_info": {
   "codemirror_mode": {
    "name": "ipython",
    "version": 3
   },
   "file_extension": ".py",
   "mimetype": "text/x-python",
   "name": "python",
   "nbconvert_exporter": "python",
   "pygments_lexer": "ipython3",
   "version": "3.12.3"
  }
 },
 "nbformat": 4,
 "nbformat_minor": 4
}
